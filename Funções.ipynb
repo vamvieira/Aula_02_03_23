{
  "nbformat": 4,
  "nbformat_minor": 0,
  "metadata": {
    "colab": {
      "provenance": [],
      "authorship_tag": "ABX9TyMvfYxDUKirygGsQIsZGnwx",
      "include_colab_link": true
    },
    "kernelspec": {
      "name": "python3",
      "display_name": "Python 3"
    },
    "language_info": {
      "name": "python"
    }
  },
  "cells": [
    {
      "cell_type": "markdown",
      "metadata": {
        "id": "view-in-github",
        "colab_type": "text"
      },
      "source": [
        "<a href=\"https://colab.research.google.com/github/vamvieira/Aula_02_03_23/blob/main/Fun%C3%A7%C3%B5es.ipynb\" target=\"_parent\"><img src=\"https://colab.research.google.com/assets/colab-badge.svg\" alt=\"Open In Colab\"/></a>"
      ]
    },
    {
      "cell_type": "code",
      "execution_count": null,
      "metadata": {
        "id": "HeKbkhKciD8M"
      },
      "outputs": [],
      "source": [
        "#Definir a funções\n",
        "def ola():\n",
        "  print('Olá')"
      ]
    },
    {
      "cell_type": "code",
      "source": [
        "ola() #chamando a função"
      ],
      "metadata": {
        "colab": {
          "base_uri": "https://localhost:8080/"
        },
        "id": "6pfS-JaPiSP9",
        "outputId": "0a33b4f9-bc6d-4cb1-990e-9b828e018103"
      },
      "execution_count": null,
      "outputs": [
        {
          "output_type": "stream",
          "name": "stdout",
          "text": [
            "Olá\n"
          ]
        }
      ]
    },
    {
      "cell_type": "code",
      "source": [
        "#função com argumentos\n",
        "def soma(n1,n2):\n",
        "  print(n1+n2)\n",
        "\n",
        "soma(5,5)"
      ],
      "metadata": {
        "colab": {
          "base_uri": "https://localhost:8080/"
        },
        "id": "TsH7ySkaiXwd",
        "outputId": "2eab6411-aa98-45da-97e0-4716ea80c106"
      },
      "execution_count": null,
      "outputs": [
        {
          "output_type": "stream",
          "name": "stdout",
          "text": [
            "10\n"
          ]
        }
      ]
    },
    {
      "cell_type": "code",
      "source": [
        "def potencia(n1, n2=2):\n",
        "  print(n1**n2)\n",
        "\n",
        "potencia(3)\n",
        "potencia(2,6)"
      ],
      "metadata": {
        "id": "DX2vi1owjVbd",
        "colab": {
          "base_uri": "https://localhost:8080/"
        },
        "outputId": "841daaef-d86e-4aa6-fdf0-a28e62ad89b7"
      },
      "execution_count": 16,
      "outputs": [
        {
          "output_type": "stream",
          "name": "stdout",
          "text": [
            "9\n",
            "64\n"
          ]
        }
      ]
    },
    {
      "cell_type": "code",
      "source": [
        "#Função com return\n",
        "def par_impar(n1):\n",
        "  if n1 % 2 == 0:\n",
        "    return True\n",
        "  else:\n",
        "    return False\n",
        "numero = 6\n",
        "print(f'O numero é par? {par_impar(numero)}')"
      ],
      "metadata": {
        "colab": {
          "base_uri": "https://localhost:8080/"
        },
        "id": "qMiF_cSTkmqu",
        "outputId": "d4ee8d52-230d-48d9-f142-fcba447477d4"
      },
      "execution_count": 19,
      "outputs": [
        {
          "output_type": "stream",
          "name": "stdout",
          "text": [
            "O numero é par? True\n"
          ]
        }
      ]
    },
    {
      "cell_type": "code",
      "source": [
        "#variaveis locais vs variaveis locais\n",
        "# variaveis globais se declara no inicio do codigo\n",
        "#variavel global\n",
        "n1 = 10\n",
        "def soma(n2):\n",
        "  global n1\n",
        "  n1 = n1+n2\n",
        "\n",
        "soma(3)\n",
        "print(n1)"
      ],
      "metadata": {
        "colab": {
          "base_uri": "https://localhost:8080/"
        },
        "id": "w8JcEZrCnqF9",
        "outputId": "b650770d-0acc-44c1-aa48-02942757305f"
      },
      "execution_count": 20,
      "outputs": [
        {
          "output_type": "stream",
          "name": "stdout",
          "text": [
            "13\n"
          ]
        }
      ]
    },
    {
      "cell_type": "code",
      "source": [
        "#variavel local\n",
        "def teste():\n",
        "  nome = 'bruno'\n",
        "  print(nome)\n",
        "\n",
        "print(nome)\n",
        "teste()"
      ],
      "metadata": {
        "colab": {
          "base_uri": "https://localhost:8080/",
          "height": 193
        },
        "id": "InGBrj7boctt",
        "outputId": "e0dd8166-0489-4bf3-d561-4024ae2bc191"
      },
      "execution_count": 22,
      "outputs": [
        {
          "output_type": "error",
          "ename": "NameError",
          "evalue": "name 'nome' is not defined",
          "traceback": [
            "\u001b[0;31m---------------------------------------------------------------------------\u001b[0m",
            "\u001b[0;31mNameError\u001b[0m                                 Traceback (most recent call last)",
            "\u001b[0;32m<ipython-input-22-2899127299>\u001b[0m in \u001b[0;36m<cell line: 0>\u001b[0;34m()\u001b[0m\n\u001b[1;32m      4\u001b[0m   \u001b[0mprint\u001b[0m\u001b[0;34m(\u001b[0m\u001b[0mnome\u001b[0m\u001b[0;34m)\u001b[0m\u001b[0;34m\u001b[0m\u001b[0;34m\u001b[0m\u001b[0m\n\u001b[1;32m      5\u001b[0m \u001b[0;34m\u001b[0m\u001b[0m\n\u001b[0;32m----> 6\u001b[0;31m \u001b[0mprint\u001b[0m\u001b[0;34m(\u001b[0m\u001b[0mnome\u001b[0m\u001b[0;34m)\u001b[0m\u001b[0;34m\u001b[0m\u001b[0;34m\u001b[0m\u001b[0m\n\u001b[0m\u001b[1;32m      7\u001b[0m \u001b[0mteste\u001b[0m\u001b[0;34m(\u001b[0m\u001b[0;34m)\u001b[0m\u001b[0;34m\u001b[0m\u001b[0;34m\u001b[0m\u001b[0m\n",
            "\u001b[0;31mNameError\u001b[0m: name 'nome' is not defined"
          ]
        }
      ]
    },
    {
      "cell_type": "code",
      "source": [
        "def area(l,c):\n",
        "  print(f'A area é {l*c:.2f}')\n",
        "\n",
        "largura = float(input('Digite a largura do terreno: '))\n",
        "comprimento = float(input('Digite o comprimento do terreno: '))\n",
        "area(largura,comprimento)"
      ],
      "metadata": {
        "colab": {
          "base_uri": "https://localhost:8080/"
        },
        "id": "QI3Dv1yloe38",
        "outputId": "3fd63f30-dda6-473d-aecf-9fc68372890c"
      },
      "execution_count": 25,
      "outputs": [
        {
          "output_type": "stream",
          "name": "stdout",
          "text": [
            "Digite a largura do terreno: 5\n",
            "Digite o comprimento do terreno: 10\n",
            "A area é 50.00\n"
          ]
        }
      ]
    },
    {
      "cell_type": "code",
      "source": [],
      "metadata": {
        "id": "8uaQw6DEqxsu"
      },
      "execution_count": null,
      "outputs": []
    }
  ]
}