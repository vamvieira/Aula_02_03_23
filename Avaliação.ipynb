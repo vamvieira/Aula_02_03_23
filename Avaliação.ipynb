{
  "nbformat": 4,
  "nbformat_minor": 0,
  "metadata": {
    "colab": {
      "provenance": [],
      "authorship_tag": "ABX9TyMFh3OHEcEzgEovvSMRcalE",
      "include_colab_link": true
    },
    "kernelspec": {
      "name": "python3",
      "display_name": "Python 3"
    },
    "language_info": {
      "name": "python"
    }
  },
  "cells": [
    {
      "cell_type": "markdown",
      "metadata": {
        "id": "view-in-github",
        "colab_type": "text"
      },
      "source": [
        "<a href=\"https://colab.research.google.com/github/vamvieira/Aula_02_03_23/blob/main/Avalia%C3%A7%C3%A3o.ipynb\" target=\"_parent\"><img src=\"https://colab.research.google.com/assets/colab-badge.svg\" alt=\"Open In Colab\"/></a>"
      ]
    },
    {
      "cell_type": "markdown",
      "source": [
        "AVALIAÇÃO – CIENTISTA DE DADOS I\n",
        "Orientações:\n",
        "• Responder a todas as questões abaixo, detalhando as etapas, processos realizados e\n",
        "ferramentas utilizadas.\n",
        "• Disponibilizar as respostas através de um arquivo de texto em uma plataforma de\n",
        "armazenamento em nuvem (Google Drive, OneDrive, WeTransfer, etc.) ou através de\n",
        "um link de repositório de compartilhamento de projetos de desenvolvimento (Git ou\n",
        "GitHub).\n",
        "Importante: Todas as questões foram consultadas utilizando inteligências artificiais\n",
        "generativas, portanto, as respostas serão analisadas considerando aspectos de\n",
        "autenticidade, clareza e resolução.\n"
      ],
      "metadata": {
        "id": "z4jNRIBDOJbn"
      }
    },
    {
      "cell_type": "markdown",
      "source": [
        "Questões:\n",
        "1. Você precisa integrar e manter atualizada uma base de comércio exterior de 143\n",
        "países. Para isso, você utilizará uma API onde pode realizar 2500 consultas diárias. Os\n",
        "parâmetros de consulta são: país_origem, país_destino e ano, exemplo:\n",
        "\n",
        "(BRA, ARG, 2019) >> importações e exportações feitas do Brasil para Argentina em 2019\n",
        "\n",
        "(BRA, ARG, 2020) >> // em 2020\n",
        "\n",
        "(BRA, AFG, 2019) >> imp/exp feitas do Brasil para Afeganistão em 2019\n",
        "\n",
        "(BRA, AFG, 2020) >> // em 2020\n",
        "\n",
        "(BRA, WLD, 2019) >> imp/exp feitas do Brasil para o Mundo em 2019\n",
        "\n",
        "(BRA, WLD, 2020) >> // em 2020\n",
        "\n",
        "(BRA, BRA, 2019) >> consulta inválida -> imp/exp feitas do Brasil para Brasil em 2019\n",
        "\n",
        "(WLD, BRA 2019) >> consulta inválida -> imp/exp feitas do Mundo para Brasil em 2019\n",
        "\n",
        "Os dados serão utilizados em um painel que responde, por exemplo, as seguintes\n",
        "questões:\n",
        "Qual a quantidade de soja o Brasil exportou para China em 2020?\n",
        "\n",
        "(BRA, CHN, 2020)\n",
        "Qual a quantidade de soja que a China importou do Brasil em 2020?\n",
        "\n",
        "(CHN, BRA, 2020)\n",
        "Qual a quantidade de soja o Brasil exportou para o Mundo em 2020?\n",
        "\n",
        "(BRA, WLD, 2020)\n",
        "Qual a quantidade de soja o Mundo importou do Brasil em 2020?\n",
        "\n",
        "Questão 1.3\n",
        "\n",
        "Sua tarefa é criar:\n",
        "\n",
        "\n"
      ],
      "metadata": {
        "id": "cIZKALxZONes"
      }
    },
    {
      "cell_type": "markdown",
      "source": [
        "1.1 - Uma estrutura de diretórios e nomenclatura de arquivos que permita armazenar as\n",
        "consultas de modo coerente, ex:\n",
        "Haverão diretórios: BRA, ARG, AFG, ...\n",
        "E arquivos: BRA.txt, ARG.txt, AFG.txt, ...\n",
        "Com isso, o arquivo /BRA/ARG.txt representa a imp/exp feita do BRA para ARG\n",
        "*Obs: A estrutura listada pode ser insuficiente/incorreta"
      ],
      "metadata": {
        "id": "xaA1nA2fO3zV"
      }
    },
    {
      "cell_type": "markdown",
      "source": [
        "RESPOSTA: Primeiramente precisamos organizar as consultas, com um diretório principal e subdiretórios para cada país.\n",
        "\n",
        "Por exemplo criamos um subdiretório com o nome de um país: \"ARG\", e dentro deste subdiretório, necessitariamos dos arquivos de cada país com o seu destino e o ano, então ficaria:\n",
        "ARG: Argentina\n",
        "\n",
        "ARG/\n",
        "ARG_2019.txt\n"
      ],
      "metadata": {
        "id": "RCcpxgm6O-pH"
      }
    },
    {
      "cell_type": "markdown",
      "source": [
        "1.2 - Liste as etapas necessárias para integração de 3 anos (2019~2021) de comércio\n",
        "exterior, ex:\n",
        " 1 - Fazer request em todos paises, parceiros e anos\n",
        "itera sobre 143 países origem\n",
        " for pais_origem in lista_paises:\n",
        "itera sobre os 143 países destino\n",
        "for pais_destino in lista_paises:\n",
        "itera sobre os anos\n",
        " for ano in ['2019', '2020', '2021']:\n",
        "consulta\n",
        "\n",
        "res = get(pais_origem, pais_destino, ano)\n",
        "\n",
        "*Obs: Esse exemplo é insuficiente/incompleto"
      ],
      "metadata": {
        "id": "IJkhgeP2QbmN"
      }
    },
    {
      "cell_type": "markdown",
      "source": [
        "RESPOSTA: 1.2.1-"
      ],
      "metadata": {
        "id": "-auC71xfQgys"
      }
    },
    {
      "cell_type": "code",
      "source": [
        "#RESPOSTA\n",
        "for pais_origem in lista_paises:\n",
        "    for pais_destino in lista_paises:\n",
        "        for ano in ['2019', '2020', '2021']:\n",
        "            res = get(pais_origem, pais_destino, ano)"
      ],
      "metadata": {
        "id": "50hOAmCOO3a6"
      },
      "execution_count": null,
      "outputs": []
    },
    {
      "cell_type": "markdown",
      "source": [
        " 2- Salvar arquivos\n",
        " res.write(f'{pais_origem}/{pais_destino}.txt') #ex: BRA/ARG.txt\n",
        "\n",
        "*Obs: Embora a estrutura listada em (1) tenha sido preservada não funcionará corretamente.\n",
        "\n",
        "Etapas adicionais (ou uma estrutura distinta) são\n",
        "necessárias.\n",
        "\n",
        " *Obs2: Note que os códigos são apenas abstrações. Não se faz necessário detalhamento: explicitar função get; garantir que objeto res possua\n",
        "método write e assim por diante."
      ],
      "metadata": {
        "id": "IJtZrnzFRgmV"
      }
    },
    {
      "cell_type": "code",
      "source": [
        "#RESPOSTA\n",
        "def save_arq(dados, pais_origem, pais_destino, ano):\n",
        "    with open(f'comercio_exterior{pais_origem}/{pais_destino}_{ano}.txt', 'w') as file:\n",
        "        file.write(dados)"
      ],
      "metadata": {
        "id": "aC4BdE6wOMFu"
      },
      "execution_count": 2,
      "outputs": []
    },
    {
      "cell_type": "markdown",
      "source": [
        "1.3 - Qual/Quais arquivo(s) da sua base de dados respondem a questão: 'Qual a\n",
        "quantidade de soja o Mundo importou do Brasil em 2020?'\n",
        "A resposta irá depender da estrutura proposta em (1.1)"
      ],
      "metadata": {
        "id": "v1VRf6AKSG29"
      }
    },
    {
      "cell_type": "markdown",
      "source": [
        "RESPOSTA: A reposta do arquivo sairia como \"BRA/WLD_2020.txt\""
      ],
      "metadata": {
        "id": "j4aEOZqCSNnJ"
      }
    },
    {
      "cell_type": "markdown",
      "source": [
        "1.4 – Sua base de dados alimenta um painel que possui informações de comércio\n",
        "exterior entre países – e também mundo. As consultas de comércio exterior podem ser\n",
        "feitas com os parâmetros M (‘mês’) ou A(‘ano’). A consulta M representa um report dos\n",
        "meses disponíveis no ano até então. A consulta A representa o report final/completo\n",
        "das imp/exp em determinado ano. Considere que cada país escolhe uma data\n",
        "“aleatória” do primeiro trimestre do novo ano para realizar o report final/completo das\n",
        "suas exportações e importações anuais do ano anterior. Para o melhor entendimento,\n",
        "considere as seguintes consultas:\n",
        "Consultas feitas em 1 julho 2024\n",
        "(BRA, CHN, 2024, ‘A’) >> retorna vazio, pois ainda não houve report final\n",
        "(BRA, CHN, 2024, ‘M’) >> retorna o imp/exp nos meses disponíveis\n",
        "Consultas feitas em 15 março 2025\n",
        "(BRA, CHN, 2024, ‘A’) >> retorna report final/completo do ano de 2024\n",
        "(BRA, CHN, 2024, ‘M’) >> retorna meses disponíveis (porém é incompleto)\n",
        "Vale ressaltar que o report final/completo pode ser diferente do mensal mesmo após o\n",
        "término do ano. Isso porque o país pode escolher reportar mensalmente até o\n",
        "penúltimo trimestre do ano e depois fazer apenas o report anual. Isso faria com que os\n",
        "dataset de todos os meses disponíveis em 2024 seja distinto do report anual do mesmo\n",
        "ano.\n",
        "Com isso em mente, liste as etapas necessárias para manter as bases atualizadas de\n",
        "modo recorrente: considere que estamos no dia 1 de fevereiro de 2025."
      ],
      "metadata": {
        "id": "nULRqS9LS-wH"
      }
    },
    {
      "cell_type": "code",
      "source": [
        "# Primeiramente precisamos realizar as consultas mensais e anuais para atualizarmos os dados,\n",
        "#posterios necessitamos de verificar se há novos relatórios anuais.\n",
        "#Por fim salvar a atualização final da base de dados com as informações novas e em seus respectivos arquivos.\n",
        "\n",
        "def update_dados():\n",
        "  for pais_origem in lista_paises:\n",
        "    for pais_destino in lista_paises:\n",
        "      if pais_origem != pais_destino:\n",
        "        for ano in ['2024', '2025']:\n",
        "          if ano == '2024':\n",
        "            res_ano = get_dados(pais_origem, pais_destino, '2024', 'A')\n",
        "            save_arq(res_ano, pais_origem, pais_destino, ano, 'M')\n",
        "          res_mes = get_dados(pais_origem, pais_destino, ano, 'M')\n",
        "          save_arq(res_mes, pais_origem, pais_destino, ano)\n"
      ],
      "metadata": {
        "id": "M-OQnNyiTBcY"
      },
      "execution_count": null,
      "outputs": []
    },
    {
      "cell_type": "markdown",
      "source": [
        "2. Considere os arquivos públicos da Receita Federal disponíveis em:\n",
        "http://200.152.38.155/CNPJ/. A página é atualizada, na média, 1 vez ao mês: os nomes\n",
        "dos arquivos são fixos.\n",
        "Suponha que você precise automatizar o processo de baixar, empilhar e manter\n",
        "atualizado os arquivos de empresas (0~9). Considere que o site é instável, portanto, o\n",
        "arquivo baixado pode estar corrompido."
      ],
      "metadata": {
        "id": "jPhjMzzdUdYJ"
      }
    },
    {
      "cell_type": "code",
      "source": [
        "#Para mantermos o Dataset atualzado, precisamos baixar os arquivos das empresas,\n",
        "#extrair o arquivo, e abri-lo utilizando o pandas.\n",
        "\n",
        "#importando\n",
        "import requests\n",
        "import zipfile\n",
        "import pandas as pd\n",
        "\n",
        "def baixar_arq():\n",
        "  for i in range(10):\n",
        "    url = f'http://200.152.38.155/CNPJ/Empresas{i}.zip'\n",
        "    response = requests.get(url)\n",
        "    if response.status_code == 200:\n",
        "        with open(f'Empresas{i}.zip', 'wb') as file:\n",
        "            file.write(response.content)\n",
        "        extrair_arq(f'Empresas{i}.zip')\n",
        "\n",
        "def extrair_arq(zip_path):\n",
        "    with zipfile.ZipFile(zip_path, 'r') as zip_ref:\n",
        "        zip_ref.extractall('empresas')\n",
        "\n",
        "def empilhar_arq():\n",
        "    df_list = []\n",
        "    for i in range(10):\n",
        "        df = pd.read_csv(f'empresas/Empresas{i}.csv')\n",
        "        df_list.append(df)\n",
        "    df_final = pd.concat(df_list)\n",
        "    df_final.to_csv('empresas_final.csv', index=False)\n",
        "\n",
        "baixar_arq()\n",
        "empilhar_arq()"
      ],
      "metadata": {
        "id": "LA07MbLyTq8Q"
      },
      "execution_count": 1,
      "outputs": []
    },
    {
      "cell_type": "markdown",
      "source": [
        "3. Escreva uma consulta SQL que retorne, para cada funcionário, o nome do\n",
        "departamento em que ele trabalhou pela primeira vez (baseado na data de início de\n",
        "trabalho), o nome do departamento onde ele está atualmente trabalhando, e a\n",
        "quantidade de departamentos diferentes em que ele já trabalhou."
      ],
      "metadata": {
        "id": "Oo0o1mxZUl4f"
      }
    },
    {
      "cell_type": "code",
      "source": [
        "\"\"\"SELECT\n",
        "    e.employee_id,\n",
        "    e.employee_name,\n",
        "    MIN(d.department_name) AS first_department,\n",
        "    MAX(d.department_name) AS current_department,\n",
        "    COUNT(DISTINCT d.department_id) AS department_count\n",
        "FROM\n",
        "    employees e\n",
        "JOIN\n",
        "    employee_department_history edh ON e.employee_id = edh.employee_id\n",
        "JOIN\n",
        "    departments d ON edh.department_id = d.department_id\n",
        "GROUP BY\n",
        "    e.employee_id, e.employee_name;\"\"\""
      ],
      "metadata": {
        "id": "-zoq7ylTT8zV"
      },
      "execution_count": null,
      "outputs": []
    },
    {
      "cell_type": "markdown",
      "source": [
        "4. O arquivo exemplo1.parquet possui 7GB. O tempo de leitura e retorno de 1 linha específica\n",
        "são 5s - utilizando processamento paralelo (pyspark) em cluster. Contudo, você precisa criar\n",
        "uma API com recursos bem mais modestos, isto é, menor poder de processamento - mantendo\n",
        "o tempo de consulta rápido. Liste as alterações e procedimentos necessários para realizar\n",
        "isso.\n"
      ],
      "metadata": {
        "id": "R-0655vjUveN"
      }
    },
    {
      "cell_type": "code",
      "source": [
        "#Precisamos dividir o arquivo parquet em pequenos arquivos, devemos utilizar indices para alavancar as buscas,\n",
        "#Devemos manter os dados atualizados de uma forma recorrente.\n",
        "#Otimizar querrys para uma leitura rápida."
      ],
      "metadata": {
        "id": "PGj3X4xFUsvu"
      },
      "execution_count": null,
      "outputs": []
    },
    {
      "cell_type": "markdown",
      "source": [
        "5. Você foi instruído a criar um modelo de regressão baseado em um modelo econométrico. Ao\n",
        "terminar a implementação você verificou que o resultado está abaixo do esperado. Liste o que\n",
        "poderia ser feito para melhorar o resultado."
      ],
      "metadata": {
        "id": "C3L-HXSVVNBS"
      }
    },
    {
      "cell_type": "code",
      "source": [
        "#Para realizarmos uma melhoria em modelos de regressão é necessário verificar a qualidade dos dados.\n",
        "#Testar com diferentes algoritmos.\n",
        "#É necessário adicionar novas variáveis testes.\n",
        "#Validar o modelo"
      ],
      "metadata": {
        "id": "Vy2Ikm09VNPH"
      },
      "execution_count": null,
      "outputs": []
    },
    {
      "cell_type": "markdown",
      "source": [
        "6. ELT e ETL são termos comuns na rotina de trabalho de especialistas em Soluções de\n",
        "Tecnologia da Informação, justamente por representarem estratégias de pipelines de integração\n",
        "de dados em um determinado projeto. Sobre esses procedimentos, é correto afirmar que:\n"
      ],
      "metadata": {
        "id": "PNXWprcZVksg"
      }
    },
    {
      "cell_type": "code",
      "source": [
        "# Eu escolho a resposta D, pois ela destaca as principais vantagens de um ETL em ambientes Cloud."
      ],
      "metadata": {
        "id": "U6ooHxOeVoM7"
      },
      "execution_count": 2,
      "outputs": []
    }
  ]
}